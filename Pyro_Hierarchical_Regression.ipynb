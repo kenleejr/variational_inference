{
  "nbformat": 4,
  "nbformat_minor": 0,
  "metadata": {
    "colab": {
      "name": "Pyro Hierarchical Regression",
      "provenance": [],
      "authorship_tag": "ABX9TyMqcFhinBzv7OTG1zR6lmwr",
      "include_colab_link": true
    },
    "kernelspec": {
      "name": "python3",
      "display_name": "Python 3"
    },
    "language_info": {
      "name": "python"
    },
    "widgets": {
      "application/vnd.jupyter.widget-state+json": {
        "37fc4ec77b244ae0af5378b469959304": {
          "model_module": "@jupyter-widgets/controls",
          "model_name": "VBoxModel",
          "model_module_version": "1.5.0",
          "state": {
            "_view_name": "VBoxView",
            "_dom_classes": [],
            "_model_name": "VBoxModel",
            "_view_module": "@jupyter-widgets/controls",
            "_model_module_version": "1.5.0",
            "_view_count": null,
            "_view_module_version": "1.5.0",
            "box_style": "",
            "layout": "IPY_MODEL_8a33c9d0f25f4e5bb149c9984e87d5e6",
            "_model_module": "@jupyter-widgets/controls",
            "children": [
              "IPY_MODEL_046b3573e8654f1887aa971c3a5d11e9",
              "IPY_MODEL_870e5fc26a68465d84b895e0061c8307"
            ]
          }
        },
        "8a33c9d0f25f4e5bb149c9984e87d5e6": {
          "model_module": "@jupyter-widgets/base",
          "model_name": "LayoutModel",
          "model_module_version": "1.2.0",
          "state": {
            "_view_name": "LayoutView",
            "grid_template_rows": null,
            "right": null,
            "justify_content": null,
            "_view_module": "@jupyter-widgets/base",
            "overflow": null,
            "_model_module_version": "1.2.0",
            "_view_count": null,
            "flex_flow": null,
            "width": null,
            "min_width": null,
            "border": null,
            "align_items": null,
            "bottom": null,
            "_model_module": "@jupyter-widgets/base",
            "top": null,
            "grid_column": null,
            "overflow_y": null,
            "overflow_x": null,
            "grid_auto_flow": null,
            "grid_area": null,
            "grid_template_columns": null,
            "flex": null,
            "_model_name": "LayoutModel",
            "justify_items": null,
            "grid_row": null,
            "max_height": null,
            "align_content": null,
            "visibility": null,
            "align_self": null,
            "height": null,
            "min_height": null,
            "padding": null,
            "grid_auto_rows": null,
            "grid_gap": null,
            "max_width": null,
            "order": null,
            "_view_module_version": "1.2.0",
            "grid_template_areas": null,
            "object_position": null,
            "object_fit": null,
            "grid_auto_columns": null,
            "margin": null,
            "display": null,
            "left": null
          }
        },
        "046b3573e8654f1887aa971c3a5d11e9": {
          "model_module": "@jupyter-widgets/controls",
          "model_name": "LabelModel",
          "model_module_version": "1.5.0",
          "state": {
            "_view_name": "LabelView",
            "style": "IPY_MODEL_f3459e2e05144a458f56d5c38800d97d",
            "_dom_classes": [],
            "description": "",
            "_model_name": "LabelModel",
            "placeholder": "​",
            "_view_module": "@jupyter-widgets/controls",
            "_model_module_version": "1.5.0",
            "value": " 0.02MB of 0.02MB uploaded (0.00MB deduped)\r",
            "_view_count": null,
            "_view_module_version": "1.5.0",
            "description_tooltip": null,
            "_model_module": "@jupyter-widgets/controls",
            "layout": "IPY_MODEL_7a3b7dcdf1dd4e51bce8c4e41a99922b"
          }
        },
        "870e5fc26a68465d84b895e0061c8307": {
          "model_module": "@jupyter-widgets/controls",
          "model_name": "FloatProgressModel",
          "model_module_version": "1.5.0",
          "state": {
            "_view_name": "ProgressView",
            "style": "IPY_MODEL_77ede1f7e7fe46758eef7d9188df4e1f",
            "_dom_classes": [],
            "description": "",
            "_model_name": "FloatProgressModel",
            "bar_style": "",
            "max": 1,
            "_view_module": "@jupyter-widgets/controls",
            "_model_module_version": "1.5.0",
            "value": 1,
            "_view_count": null,
            "_view_module_version": "1.5.0",
            "orientation": "horizontal",
            "min": 0,
            "description_tooltip": null,
            "_model_module": "@jupyter-widgets/controls",
            "layout": "IPY_MODEL_cd676d37dd9e4d2ebce5c18665117e1c"
          }
        },
        "f3459e2e05144a458f56d5c38800d97d": {
          "model_module": "@jupyter-widgets/controls",
          "model_name": "DescriptionStyleModel",
          "model_module_version": "1.5.0",
          "state": {
            "_view_name": "StyleView",
            "_model_name": "DescriptionStyleModel",
            "description_width": "",
            "_view_module": "@jupyter-widgets/base",
            "_model_module_version": "1.5.0",
            "_view_count": null,
            "_view_module_version": "1.2.0",
            "_model_module": "@jupyter-widgets/controls"
          }
        },
        "7a3b7dcdf1dd4e51bce8c4e41a99922b": {
          "model_module": "@jupyter-widgets/base",
          "model_name": "LayoutModel",
          "model_module_version": "1.2.0",
          "state": {
            "_view_name": "LayoutView",
            "grid_template_rows": null,
            "right": null,
            "justify_content": null,
            "_view_module": "@jupyter-widgets/base",
            "overflow": null,
            "_model_module_version": "1.2.0",
            "_view_count": null,
            "flex_flow": null,
            "width": null,
            "min_width": null,
            "border": null,
            "align_items": null,
            "bottom": null,
            "_model_module": "@jupyter-widgets/base",
            "top": null,
            "grid_column": null,
            "overflow_y": null,
            "overflow_x": null,
            "grid_auto_flow": null,
            "grid_area": null,
            "grid_template_columns": null,
            "flex": null,
            "_model_name": "LayoutModel",
            "justify_items": null,
            "grid_row": null,
            "max_height": null,
            "align_content": null,
            "visibility": null,
            "align_self": null,
            "height": null,
            "min_height": null,
            "padding": null,
            "grid_auto_rows": null,
            "grid_gap": null,
            "max_width": null,
            "order": null,
            "_view_module_version": "1.2.0",
            "grid_template_areas": null,
            "object_position": null,
            "object_fit": null,
            "grid_auto_columns": null,
            "margin": null,
            "display": null,
            "left": null
          }
        },
        "77ede1f7e7fe46758eef7d9188df4e1f": {
          "model_module": "@jupyter-widgets/controls",
          "model_name": "ProgressStyleModel",
          "model_module_version": "1.5.0",
          "state": {
            "_view_name": "StyleView",
            "_model_name": "ProgressStyleModel",
            "description_width": "",
            "_view_module": "@jupyter-widgets/base",
            "_model_module_version": "1.5.0",
            "_view_count": null,
            "_view_module_version": "1.2.0",
            "bar_color": null,
            "_model_module": "@jupyter-widgets/controls"
          }
        },
        "cd676d37dd9e4d2ebce5c18665117e1c": {
          "model_module": "@jupyter-widgets/base",
          "model_name": "LayoutModel",
          "model_module_version": "1.2.0",
          "state": {
            "_view_name": "LayoutView",
            "grid_template_rows": null,
            "right": null,
            "justify_content": null,
            "_view_module": "@jupyter-widgets/base",
            "overflow": null,
            "_model_module_version": "1.2.0",
            "_view_count": null,
            "flex_flow": null,
            "width": null,
            "min_width": null,
            "border": null,
            "align_items": null,
            "bottom": null,
            "_model_module": "@jupyter-widgets/base",
            "top": null,
            "grid_column": null,
            "overflow_y": null,
            "overflow_x": null,
            "grid_auto_flow": null,
            "grid_area": null,
            "grid_template_columns": null,
            "flex": null,
            "_model_name": "LayoutModel",
            "justify_items": null,
            "grid_row": null,
            "max_height": null,
            "align_content": null,
            "visibility": null,
            "align_self": null,
            "height": null,
            "min_height": null,
            "padding": null,
            "grid_auto_rows": null,
            "grid_gap": null,
            "max_width": null,
            "order": null,
            "_view_module_version": "1.2.0",
            "grid_template_areas": null,
            "object_position": null,
            "object_fit": null,
            "grid_auto_columns": null,
            "margin": null,
            "display": null,
            "left": null
          }
        }
      }
    }
  },
  "cells": [
    {
      "cell_type": "markdown",
      "metadata": {
        "id": "view-in-github",
        "colab_type": "text"
      },
      "source": [
        "<a href=\"https://colab.research.google.com/github/kenleejr/variational_inference/blob/main/Pyro_Hierarchical_Regression.ipynb\" target=\"_parent\"><img src=\"https://colab.research.google.com/assets/colab-badge.svg\" alt=\"Open In Colab\"/></a>"
      ]
    },
    {
      "cell_type": "code",
      "source": [
        "!pip install pyro-ppl\n",
        "!pip install wandb"
      ],
      "metadata": {
        "colab": {
          "base_uri": "https://localhost:8080/"
        },
        "id": "PUsCmMYN2KZA",
        "outputId": "bff96bbb-7e45-415e-b9e0-802a515d8a7c"
      },
      "execution_count": 1,
      "outputs": [
        {
          "output_type": "stream",
          "name": "stdout",
          "text": [
            "Requirement already satisfied: pyro-ppl in /usr/local/lib/python3.7/dist-packages (1.8.0)\n",
            "Requirement already satisfied: numpy>=1.7 in /usr/local/lib/python3.7/dist-packages (from pyro-ppl) (1.19.5)\n",
            "Requirement already satisfied: torch>=1.9.0 in /usr/local/lib/python3.7/dist-packages (from pyro-ppl) (1.10.0+cu111)\n",
            "Requirement already satisfied: tqdm>=4.36 in /usr/local/lib/python3.7/dist-packages (from pyro-ppl) (4.62.3)\n",
            "Requirement already satisfied: pyro-api>=0.1.1 in /usr/local/lib/python3.7/dist-packages (from pyro-ppl) (0.1.2)\n",
            "Requirement already satisfied: opt-einsum>=2.3.2 in /usr/local/lib/python3.7/dist-packages (from pyro-ppl) (3.3.0)\n",
            "Requirement already satisfied: typing-extensions in /usr/local/lib/python3.7/dist-packages (from torch>=1.9.0->pyro-ppl) (3.10.0.2)\n",
            "Requirement already satisfied: wandb in /usr/local/lib/python3.7/dist-packages (0.12.9)\n",
            "Requirement already satisfied: PyYAML in /usr/local/lib/python3.7/dist-packages (from wandb) (3.13)\n",
            "Requirement already satisfied: sentry-sdk>=1.0.0 in /usr/local/lib/python3.7/dist-packages (from wandb) (1.5.1)\n",
            "Requirement already satisfied: shortuuid>=0.5.0 in /usr/local/lib/python3.7/dist-packages (from wandb) (1.0.8)\n",
            "Requirement already satisfied: python-dateutil>=2.6.1 in /usr/local/lib/python3.7/dist-packages (from wandb) (2.8.2)\n",
            "Requirement already satisfied: subprocess32>=3.5.3 in /usr/local/lib/python3.7/dist-packages (from wandb) (3.5.4)\n",
            "Requirement already satisfied: protobuf>=3.12.0 in /usr/local/lib/python3.7/dist-packages (from wandb) (3.17.3)\n",
            "Requirement already satisfied: Click!=8.0.0,>=7.0 in /usr/local/lib/python3.7/dist-packages (from wandb) (7.1.2)\n",
            "Requirement already satisfied: psutil>=5.0.0 in /usr/local/lib/python3.7/dist-packages (from wandb) (5.4.8)\n",
            "Requirement already satisfied: docker-pycreds>=0.4.0 in /usr/local/lib/python3.7/dist-packages (from wandb) (0.4.0)\n",
            "Requirement already satisfied: configparser>=3.8.1 in /usr/local/lib/python3.7/dist-packages (from wandb) (5.2.0)\n",
            "Requirement already satisfied: promise<3,>=2.0 in /usr/local/lib/python3.7/dist-packages (from wandb) (2.3)\n",
            "Requirement already satisfied: six>=1.13.0 in /usr/local/lib/python3.7/dist-packages (from wandb) (1.15.0)\n",
            "Requirement already satisfied: yaspin>=1.0.0 in /usr/local/lib/python3.7/dist-packages (from wandb) (2.1.0)\n",
            "Requirement already satisfied: pathtools in /usr/local/lib/python3.7/dist-packages (from wandb) (0.1.2)\n",
            "Requirement already satisfied: requests<3,>=2.0.0 in /usr/local/lib/python3.7/dist-packages (from wandb) (2.23.0)\n",
            "Requirement already satisfied: GitPython>=1.0.0 in /usr/local/lib/python3.7/dist-packages (from wandb) (3.1.24)\n",
            "Requirement already satisfied: typing-extensions>=3.7.4.3 in /usr/local/lib/python3.7/dist-packages (from GitPython>=1.0.0->wandb) (3.10.0.2)\n",
            "Requirement already satisfied: gitdb<5,>=4.0.1 in /usr/local/lib/python3.7/dist-packages (from GitPython>=1.0.0->wandb) (4.0.9)\n",
            "Requirement already satisfied: smmap<6,>=3.0.1 in /usr/local/lib/python3.7/dist-packages (from gitdb<5,>=4.0.1->GitPython>=1.0.0->wandb) (5.0.0)\n",
            "Requirement already satisfied: idna<3,>=2.5 in /usr/local/lib/python3.7/dist-packages (from requests<3,>=2.0.0->wandb) (2.10)\n",
            "Requirement already satisfied: chardet<4,>=3.0.2 in /usr/local/lib/python3.7/dist-packages (from requests<3,>=2.0.0->wandb) (3.0.4)\n",
            "Requirement already satisfied: certifi>=2017.4.17 in /usr/local/lib/python3.7/dist-packages (from requests<3,>=2.0.0->wandb) (2021.10.8)\n",
            "Requirement already satisfied: urllib3!=1.25.0,!=1.25.1,<1.26,>=1.21.1 in /usr/local/lib/python3.7/dist-packages (from requests<3,>=2.0.0->wandb) (1.24.3)\n",
            "Requirement already satisfied: termcolor<2.0.0,>=1.1.0 in /usr/local/lib/python3.7/dist-packages (from yaspin>=1.0.0->wandb) (1.1.0)\n"
          ]
        }
      ]
    },
    {
      "cell_type": "code",
      "execution_count": 3,
      "metadata": {
        "id": "qxR9M7Qywq3q"
      },
      "outputs": [],
      "source": [
        "import torch\n",
        "import torch.distributions.constraints as constraints\n",
        "from pyro.infer.autoguide.initialization import init_to_mean\n",
        "import pyro\n",
        "import pyro.distributions as dist\n",
        "from pyro.nn import PyroModule, PyroParam, PyroSample\n",
        "from pyro.infer.autoguide import AutoNormal, AutoMultivariateNormal, AutoGaussian, AutoLowRankMultivariateNormal\n",
        "from pyro.infer import Predictive\n",
        "import pyro.poutine as poutine\n",
        "from pyro.poutine.util import prune_subsample_sites\n",
        "from collections import defaultdict\n",
        "\n",
        "from pyro.distributions.torch_transform import TransformModule\n",
        "\n",
        "from functools import partial\n",
        "import matplotlib.pyplot as plt\n",
        "import wandb\n",
        "\n",
        "\n",
        "import pandas as pd\n",
        "import numpy as np\n",
        "import seaborn as sns\n",
        "\n",
        "plt.style.use('fivethirtyeight')"
      ]
    },
    {
      "cell_type": "code",
      "source": [
        "train = pd.read_csv(\n",
        "    \"https://gist.githubusercontent.com/ucals/\"\n",
        "    \"2cf9d101992cb1b78c2cdd6e3bac6a4b/raw/\"\n",
        "    \"43034c39052dcf97d4b894d2ec1bc3f90f3623d9/\"\n",
        "    \"osic_pulmonary_fibrosis.csv\"\n",
        ")\n",
        "train.head()"
      ],
      "metadata": {
        "colab": {
          "base_uri": "https://localhost:8080/",
          "height": 204
        },
        "id": "yP8Kpqkk1pOX",
        "outputId": "12c46a8c-c2ff-4f3e-c546-595c5cbf60ba"
      },
      "execution_count": 4,
      "outputs": [
        {
          "output_type": "execute_result",
          "data": {
            "text/html": [
              "\n",
              "  <div id=\"df-791ce6fc-2c85-4737-a84e-56ce3d4852ee\">\n",
              "    <div class=\"colab-df-container\">\n",
              "      <div>\n",
              "<style scoped>\n",
              "    .dataframe tbody tr th:only-of-type {\n",
              "        vertical-align: middle;\n",
              "    }\n",
              "\n",
              "    .dataframe tbody tr th {\n",
              "        vertical-align: top;\n",
              "    }\n",
              "\n",
              "    .dataframe thead th {\n",
              "        text-align: right;\n",
              "    }\n",
              "</style>\n",
              "<table border=\"1\" class=\"dataframe\">\n",
              "  <thead>\n",
              "    <tr style=\"text-align: right;\">\n",
              "      <th></th>\n",
              "      <th>Patient</th>\n",
              "      <th>Weeks</th>\n",
              "      <th>FVC</th>\n",
              "      <th>Percent</th>\n",
              "      <th>Age</th>\n",
              "      <th>Sex</th>\n",
              "      <th>SmokingStatus</th>\n",
              "    </tr>\n",
              "  </thead>\n",
              "  <tbody>\n",
              "    <tr>\n",
              "      <th>0</th>\n",
              "      <td>ID00007637202177411956430</td>\n",
              "      <td>-4</td>\n",
              "      <td>2315</td>\n",
              "      <td>58.253649</td>\n",
              "      <td>79</td>\n",
              "      <td>Male</td>\n",
              "      <td>Ex-smoker</td>\n",
              "    </tr>\n",
              "    <tr>\n",
              "      <th>1</th>\n",
              "      <td>ID00007637202177411956430</td>\n",
              "      <td>5</td>\n",
              "      <td>2214</td>\n",
              "      <td>55.712129</td>\n",
              "      <td>79</td>\n",
              "      <td>Male</td>\n",
              "      <td>Ex-smoker</td>\n",
              "    </tr>\n",
              "    <tr>\n",
              "      <th>2</th>\n",
              "      <td>ID00007637202177411956430</td>\n",
              "      <td>7</td>\n",
              "      <td>2061</td>\n",
              "      <td>51.862104</td>\n",
              "      <td>79</td>\n",
              "      <td>Male</td>\n",
              "      <td>Ex-smoker</td>\n",
              "    </tr>\n",
              "    <tr>\n",
              "      <th>3</th>\n",
              "      <td>ID00007637202177411956430</td>\n",
              "      <td>9</td>\n",
              "      <td>2144</td>\n",
              "      <td>53.950679</td>\n",
              "      <td>79</td>\n",
              "      <td>Male</td>\n",
              "      <td>Ex-smoker</td>\n",
              "    </tr>\n",
              "    <tr>\n",
              "      <th>4</th>\n",
              "      <td>ID00007637202177411956430</td>\n",
              "      <td>11</td>\n",
              "      <td>2069</td>\n",
              "      <td>52.063412</td>\n",
              "      <td>79</td>\n",
              "      <td>Male</td>\n",
              "      <td>Ex-smoker</td>\n",
              "    </tr>\n",
              "  </tbody>\n",
              "</table>\n",
              "</div>\n",
              "      <button class=\"colab-df-convert\" onclick=\"convertToInteractive('df-791ce6fc-2c85-4737-a84e-56ce3d4852ee')\"\n",
              "              title=\"Convert this dataframe to an interactive table.\"\n",
              "              style=\"display:none;\">\n",
              "        \n",
              "  <svg xmlns=\"http://www.w3.org/2000/svg\" height=\"24px\"viewBox=\"0 0 24 24\"\n",
              "       width=\"24px\">\n",
              "    <path d=\"M0 0h24v24H0V0z\" fill=\"none\"/>\n",
              "    <path d=\"M18.56 5.44l.94 2.06.94-2.06 2.06-.94-2.06-.94-.94-2.06-.94 2.06-2.06.94zm-11 1L8.5 8.5l.94-2.06 2.06-.94-2.06-.94L8.5 2.5l-.94 2.06-2.06.94zm10 10l.94 2.06.94-2.06 2.06-.94-2.06-.94-.94-2.06-.94 2.06-2.06.94z\"/><path d=\"M17.41 7.96l-1.37-1.37c-.4-.4-.92-.59-1.43-.59-.52 0-1.04.2-1.43.59L10.3 9.45l-7.72 7.72c-.78.78-.78 2.05 0 2.83L4 21.41c.39.39.9.59 1.41.59.51 0 1.02-.2 1.41-.59l7.78-7.78 2.81-2.81c.8-.78.8-2.07 0-2.86zM5.41 20L4 18.59l7.72-7.72 1.47 1.35L5.41 20z\"/>\n",
              "  </svg>\n",
              "      </button>\n",
              "      \n",
              "  <style>\n",
              "    .colab-df-container {\n",
              "      display:flex;\n",
              "      flex-wrap:wrap;\n",
              "      gap: 12px;\n",
              "    }\n",
              "\n",
              "    .colab-df-convert {\n",
              "      background-color: #E8F0FE;\n",
              "      border: none;\n",
              "      border-radius: 50%;\n",
              "      cursor: pointer;\n",
              "      display: none;\n",
              "      fill: #1967D2;\n",
              "      height: 32px;\n",
              "      padding: 0 0 0 0;\n",
              "      width: 32px;\n",
              "    }\n",
              "\n",
              "    .colab-df-convert:hover {\n",
              "      background-color: #E2EBFA;\n",
              "      box-shadow: 0px 1px 2px rgba(60, 64, 67, 0.3), 0px 1px 3px 1px rgba(60, 64, 67, 0.15);\n",
              "      fill: #174EA6;\n",
              "    }\n",
              "\n",
              "    [theme=dark] .colab-df-convert {\n",
              "      background-color: #3B4455;\n",
              "      fill: #D2E3FC;\n",
              "    }\n",
              "\n",
              "    [theme=dark] .colab-df-convert:hover {\n",
              "      background-color: #434B5C;\n",
              "      box-shadow: 0px 1px 3px 1px rgba(0, 0, 0, 0.15);\n",
              "      filter: drop-shadow(0px 1px 2px rgba(0, 0, 0, 0.3));\n",
              "      fill: #FFFFFF;\n",
              "    }\n",
              "  </style>\n",
              "\n",
              "      <script>\n",
              "        const buttonEl =\n",
              "          document.querySelector('#df-791ce6fc-2c85-4737-a84e-56ce3d4852ee button.colab-df-convert');\n",
              "        buttonEl.style.display =\n",
              "          google.colab.kernel.accessAllowed ? 'block' : 'none';\n",
              "\n",
              "        async function convertToInteractive(key) {\n",
              "          const element = document.querySelector('#df-791ce6fc-2c85-4737-a84e-56ce3d4852ee');\n",
              "          const dataTable =\n",
              "            await google.colab.kernel.invokeFunction('convertToInteractive',\n",
              "                                                     [key], {});\n",
              "          if (!dataTable) return;\n",
              "\n",
              "          const docLinkHtml = 'Like what you see? Visit the ' +\n",
              "            '<a target=\"_blank\" href=https://colab.research.google.com/notebooks/data_table.ipynb>data table notebook</a>'\n",
              "            + ' to learn more about interactive tables.';\n",
              "          element.innerHTML = '';\n",
              "          dataTable['output_type'] = 'display_data';\n",
              "          await google.colab.output.renderOutput(dataTable, element);\n",
              "          const docLink = document.createElement('div');\n",
              "          docLink.innerHTML = docLinkHtml;\n",
              "          element.appendChild(docLink);\n",
              "        }\n",
              "      </script>\n",
              "    </div>\n",
              "  </div>\n",
              "  "
            ],
            "text/plain": [
              "                     Patient  Weeks   FVC    Percent  Age   Sex SmokingStatus\n",
              "0  ID00007637202177411956430     -4  2315  58.253649   79  Male     Ex-smoker\n",
              "1  ID00007637202177411956430      5  2214  55.712129   79  Male     Ex-smoker\n",
              "2  ID00007637202177411956430      7  2061  51.862104   79  Male     Ex-smoker\n",
              "3  ID00007637202177411956430      9  2144  53.950679   79  Male     Ex-smoker\n",
              "4  ID00007637202177411956430     11  2069  52.063412   79  Male     Ex-smoker"
            ]
          },
          "metadata": {},
          "execution_count": 4
        }
      ]
    },
    {
      "cell_type": "code",
      "source": [
        "def chart(patient_id, ax):\n",
        "    data = train[train[\"Patient\"] == patient_id]\n",
        "    x = data[\"Weeks\"]\n",
        "    y = data[\"FVC\"]\n",
        "    ax.set_title(patient_id)\n",
        "    ax = sns.regplot(x, y, ax=ax, ci=None, line_kws={\"color\": \"red\"})\n",
        "\n",
        "\n",
        "f, axes = plt.subplots(1, 3, figsize=(15, 5))\n",
        "chart(\"ID00007637202177411956430\", axes[0])\n",
        "chart(\"ID00009637202177434476278\", axes[1])\n",
        "chart(\"ID00010637202177584971671\", axes[2])"
      ],
      "metadata": {
        "colab": {
          "base_uri": "https://localhost:8080/",
          "height": 499
        },
        "id": "6kqRfK8X11T3",
        "outputId": "a92b10fd-8fbe-429e-ae0a-8cc4cbe31044"
      },
      "execution_count": 5,
      "outputs": [
        {
          "output_type": "stream",
          "name": "stderr",
          "text": [
            "/usr/local/lib/python3.7/dist-packages/seaborn/_decorators.py:43: FutureWarning: Pass the following variables as keyword args: x, y. From version 0.12, the only valid positional argument will be `data`, and passing other arguments without an explicit keyword will result in an error or misinterpretation.\n",
            "  FutureWarning\n",
            "/usr/local/lib/python3.7/dist-packages/seaborn/_decorators.py:43: FutureWarning: Pass the following variables as keyword args: x, y. From version 0.12, the only valid positional argument will be `data`, and passing other arguments without an explicit keyword will result in an error or misinterpretation.\n",
            "  FutureWarning\n",
            "/usr/local/lib/python3.7/dist-packages/seaborn/_decorators.py:43: FutureWarning: Pass the following variables as keyword args: x, y. From version 0.12, the only valid positional argument will be `data`, and passing other arguments without an explicit keyword will result in an error or misinterpretation.\n",
            "  FutureWarning\n"
          ]
        },
        {
          "output_type": "display_data",
          "data": {
            "image/png": "[encoded data removed]",
            "text/plain": [
              "<Figure size 1080x360 with 3 Axes>"
            ]
          },
          "metadata": {}
        }
      ]
    },
    {
      "cell_type": "code",
      "source": [
        "from sklearn.preprocessing import LabelEncoder\n",
        "\n",
        "le = LabelEncoder()\n",
        "train[\"PatientID\"] = le.fit_transform(train[\"Patient\"].values)\n",
        "\n",
        "FVC_obs = torch.tensor(train[\"FVC\"].values)\n",
        "Weeks = torch.tensor(train[\"Weeks\"].values)\n",
        "PatientID = torch.tensor(train[\"PatientID\"].values)"
      ],
      "metadata": {
        "id": "yjhKnFCt39IH"
      },
      "execution_count": 18,
      "outputs": []
    },
    {
      "cell_type": "code",
      "source": [
        "pyro.clear_param_store()\n",
        "def model(PatientID, Weeks, FVC_obs=None):\n",
        "    μ_α = pyro.sample(\"μ_α\", dist.Normal(0.0, 100.0))\n",
        "    σ_α = pyro.sample(\"σ_α\", dist.HalfNormal(100.0))\n",
        "    μ_β = pyro.sample(\"μ_β\", dist.Normal(0.0, 100.0))\n",
        "    σ_β = pyro.sample(\"σ_β\", dist.HalfNormal(100.0))\n",
        "\n",
        "    unique_patient_IDs = np.unique(PatientID)\n",
        "    n_patients = len(unique_patient_IDs)\n",
        "\n",
        "    with pyro.plate(\"plate_i\", n_patients):\n",
        "        α = pyro.sample(\"α\", dist.Normal(μ_α, σ_α))\n",
        "        β = pyro.sample(\"β\", dist.Normal(μ_β, σ_β))\n",
        "\n",
        "    σ = pyro.sample(\"σ\", dist.HalfNormal(100.0))\n",
        "    FVC_est = α[PatientID] + β[PatientID] * Weeks\n",
        "\n",
        "    with pyro.plate(\"data\", len(PatientID)):\n",
        "        pyro.sample(\"obs\", dist.Normal(FVC_est, σ), obs=FVC_obs)\n",
        "\n",
        "\n",
        "def guide(PatientID, Weeks, FVC_obs=None):\n",
        "    global_μ_α = pyro.param(\"global_μ_α\", torch.tensor(0.0))\n",
        "    global_μ_β = pyro.param(\"global_μ_β\", torch.tensor(0.0))\n",
        "    global_σ_α = pyro.param(\"global_σ_α\", torch.tensor(0.1), constraint=constraints.positive)\n",
        "    global_σ_β = pyro.param(\"global_σ_β\", torch.tensor(0.1), constraint=constraints.positive)\n",
        "\n",
        "    μ_α = pyro.sample(\"μ_α\", dist.Normal(global_μ_α, global_σ_α))\n",
        "    μ_β = pyro.sample(\"μ_β\", dist.Normal(global_μ_β, global_σ_β))\n",
        "    σ_α = pyro.sample(\"σ_α\", dist.HalfNormal(global_σ_α))\n",
        "    σ_β = pyro.sample(\"σ_β\", dist.HalfNormal(global_σ_β))\n",
        "    \n",
        "    global_σ = pyro.param(\"global_σ\", torch.tensor(0.1), constraint=constraints.positive)\n",
        "    σ = pyro.sample(\"σ\", dist.HalfNormal(global_σ))\n",
        "\n",
        "    n_patients = len(np.unique(PatientID))\n",
        "\n",
        "    patient_mus = pyro.param(\"local_mus\", torch.tensor(0.0).expand(2, n_patients))\n",
        "    patient_scales = pyro.param(\"local_scales\",\n",
        "                                torch.tensor(0.1).expand(2, n_patients),\n",
        "                                constraint=constraints.positive)\n",
        "\n",
        "    with pyro.plate(\"plate_i\", n_patients):\n",
        "        pyro.sample(\"α\", dist.Normal(patient_mus[0], patient_scales[0]))\n",
        "        pyro.sample(\"β\", dist.Normal(patient_mus[1], patient_scales[1]))\n",
        "\n",
        "# Uncomment for different guides\n",
        "# guide = AutoNormal(model)\n",
        "# guide = AutoLowRankMultivariateNormal(model)"
      ],
      "metadata": {
        "id": "qsk1ZWeI2Bre"
      },
      "execution_count": 7,
      "outputs": []
    },
    {
      "cell_type": "code",
      "source": [
        "traced_guide = poutine.trace(guide)\n",
        "trace_obj = traced_guide.get_trace(PatientID, Weeks, FVC_obs)\n",
        "for site in trace_obj.nodes.values():\n",
        "    if site['type'] != 'args':\n",
        "      print(site['name'], site['type'], site['value'])"
      ],
      "metadata": {
        "id": "jbaKmS7qbfa7"
      },
      "execution_count": null,
      "outputs": []
    },
    {
      "cell_type": "code",
      "source": [
        "wandb.init(project=\"pyro-hierarchical-regression\", entity=\"kenleejr\")\n",
        "\n",
        "wandb.config.learning_rate = 0.003\n",
        "wandb.config.epochs = 2000\n",
        "\n",
        "svi = pyro.infer.SVI(model=model,\n",
        "                     guide=guide,\n",
        "                     optim=pyro.optim.Adam({\"lr\": wandb.config.learning_rate}),\n",
        "                     loss=pyro.infer.Trace_ELBO())\n",
        "\n",
        "v_names = list(pyro.get_param_store().keys())\n",
        "\n",
        "for t in range(wandb.config.epochs):\n",
        "    elbo = svi.step(PatientID, Weeks, FVC_obs)\n",
        "\n",
        "    elbo_dict = {\"ELBO\": elbo}\n",
        "    wandb.log(elbo_dict)\n",
        "    if t % 100 == 0:\n",
        "      v_params = {v: pyro.param(v).data.numpy() for v in v_names}\n",
        "      wandb.log(v_params)\n",
        "    "
      ],
      "metadata": {
        "colab": {
          "base_uri": "https://localhost:8080/",
          "height": 375,
          "referenced_widgets": [
            "37fc4ec77b244ae0af5378b469959304",
            "8a33c9d0f25f4e5bb149c9984e87d5e6",
            "046b3573e8654f1887aa971c3a5d11e9",
            "870e5fc26a68465d84b895e0061c8307",
            "f3459e2e05144a458f56d5c38800d97d",
            "7a3b7dcdf1dd4e51bce8c4e41a99922b",
            "77ede1f7e7fe46758eef7d9188df4e1f",
            "cd676d37dd9e4d2ebce5c18665117e1c"
          ]
        },
        "id": "kx9u1MsH3t0f",
        "outputId": "a10d0d5a-eaaf-4150-ec69-459a0e6c6d7a"
      },
      "execution_count": 16,
      "outputs": [
        {
          "output_type": "display_data",
          "data": {
            "text/html": [
              "Finishing last run (ID:5ltxralh) before initializing another..."
            ],
            "text/plain": [
              "<IPython.core.display.HTML object>"
            ]
          },
          "metadata": {}
        },
        {
          "output_type": "display_data",
          "data": {
            "text/html": [
              "<br/>Waiting for W&B process to finish, PID 2335... <strong style=\"color:green\">(success).</strong>"
            ],
            "text/plain": [
              "<IPython.core.display.HTML object>"
            ]
          },
          "metadata": {}
        },
        {
          "output_type": "display_data",
          "data": {
            "application/vnd.jupyter.widget-view+json": {
              "model_id": "37fc4ec77b244ae0af5378b469959304",
              "version_minor": 0,
              "version_major": 2
            },
            "text/plain": [
              "VBox(children=(Label(value=' 0.00MB of 0.00MB uploaded (0.00MB deduped)\\r'), FloatProgress(value=1.0, max=1.0)…"
            ]
          },
          "metadata": {}
        },
        {
          "output_type": "display_data",
          "data": {
            "text/html": [
              "<style>\n",
              "    table.wandb td:nth-child(1) { padding: 0 10px; text-align: right }\n",
              "    .wandb-row { display: flex; flex-direction: row; flex-wrap: wrap; width: 100% }\n",
              "    .wandb-col { display: flex; flex-direction: column; flex-basis: 100%; flex: 1; padding: 10px; }\n",
              "    </style>\n",
              "<div class=\"wandb-row\"><div class=\"wandb-col\">\n",
              "<h3>Run history:</h3><br/><table class=\"wandb\"><tr><td>ELBO</td><td>▁█▂▁▁▂▁▁▁▇▃▃▁▁▁▁▆▁▁▁▁▁▁▁▁▁▂▁▁▁▁▄▁▁▁▁▁▁▁▁</td></tr><tr><td>global_μ_α</td><td>▁▂▃▄▅▆▅█████████▅▅▅▅</td></tr><tr><td>global_μ_β</td><td>▁▁▃▃▃▃▄▄▅▅▅████▆▆▆▆▆</td></tr><tr><td>global_σ</td><td>▁▃▄▄▄▄▄▄▄▆▆▆▆▆▆▆▆███</td></tr><tr><td>global_σ_α</td><td>▁▂▃▃▄▄▅▆▆▆▆▆▆▆▆▆████</td></tr><tr><td>global_σ_β</td><td>▁▂▄▄▄▄▄▄▅▅▅▇▇▇▇█████</td></tr></table><br/></div><div class=\"wandb-col\">\n",
              "<h3>Run summary:</h3><br/><table class=\"wandb\"><tr><td>ELBO</td><td>1439096906145.4365</td></tr><tr><td>global_μ_α</td><td>0.10479</td></tr><tr><td>global_μ_β</td><td>0.16463</td></tr><tr><td>global_σ</td><td>0.1332</td></tr><tr><td>global_σ_α</td><td>0.13936</td></tr><tr><td>global_σ_β</td><td>0.14431</td></tr></table>\n",
              "</div></div>\n",
              "Synced 5 W&B file(s), 0 media file(s), 0 artifact file(s) and 0 other file(s)\n",
              "<br/>Synced <strong style=\"color:#cdcd00\">chocolate-eon-102</strong>: <a href=\"https://wandb.ai/kenleejr/pyro-hierarchical-regression/runs/5ltxralh\" target=\"_blank\">https://wandb.ai/kenleejr/pyro-hierarchical-regression/runs/5ltxralh</a><br/>\n",
              "Find logs at: <code>./wandb/run-20211231_005932-5ltxralh/logs</code><br/>\n"
            ],
            "text/plain": [
              "<IPython.core.display.HTML object>"
            ]
          },
          "metadata": {}
        },
        {
          "output_type": "display_data",
          "data": {
            "text/html": [
              "Successfully finished last run (ID:5ltxralh). Initializing new run:<br/>"
            ],
            "text/plain": [
              "<IPython.core.display.HTML object>"
            ]
          },
          "metadata": {}
        },
        {
          "output_type": "display_data",
          "data": {
            "text/html": [
              "\n",
              "                    Syncing run <strong><a href=\"https://wandb.ai/kenleejr/pyro-hierarchical-regression/runs/d9ffa8yv\" target=\"_blank\">rose-galaxy-103</a></strong> to <a href=\"https://wandb.ai/kenleejr/pyro-hierarchical-regression\" target=\"_blank\">Weights & Biases</a> (<a href=\"https://docs.wandb.com/integrations/jupyter.html\" target=\"_blank\">docs</a>).<br/>\n",
              "\n",
              "                "
            ],
            "text/plain": [
              "<IPython.core.display.HTML object>"
            ]
          },
          "metadata": {}
        }
      ]
    },
    {
      "cell_type": "code",
      "source": [
        "pred_template = []\n",
        "for i in range(train[\"Patient\"].nunique()):\n",
        "    df = pd.DataFrame(columns=[\"PatientID\", \"Weeks\"])\n",
        "    df[\"Weeks\"] = np.arange(-12, 134)\n",
        "    df[\"PatientID\"] = i\n",
        "    pred_template.append(df)\n",
        "pred_template = pd.concat(pred_template, ignore_index=True)"
      ],
      "metadata": {
        "id": "gA7BhMI16l4c"
      },
      "execution_count": 19,
      "outputs": []
    },
    {
      "cell_type": "code",
      "source": [
        "PatientID_predict = pred_template[\"PatientID\"].values\n",
        "Weeks_predict = pred_template[\"Weeks\"].values\n",
        "predictive = Predictive(model=model, guide=guide, num_samples=100)\n",
        "samples_predictive = predictive(PatientID_predict, Weeks_predict, None)"
      ],
      "metadata": {
        "id": "PnwtM8v2-uzS"
      },
      "execution_count": 20,
      "outputs": []
    },
    {
      "cell_type": "code",
      "source": [
        "df = pd.DataFrame(columns=[\"Patient\", \"Weeks\", \"FVC_pred\", \"sigma\"])\n",
        "df[\"Patient\"] = le.inverse_transform(pred_template[\"PatientID\"])\n",
        "df[\"Weeks\"] = pred_template[\"Weeks\"]\n",
        "df[\"FVC_pred\"] = samples_predictive[\"obs\"].T.mean(axis=1)\n",
        "df[\"sigma\"] = samples_predictive[\"obs\"].T.std(axis=1)\n",
        "df[\"FVC_inf\"] = df[\"FVC_pred\"] - df[\"sigma\"]\n",
        "df[\"FVC_sup\"] = df[\"FVC_pred\"] + df[\"sigma\"]\n",
        "df = pd.merge(\n",
        "    df, train[[\"Patient\", \"Weeks\", \"FVC\"]], how=\"left\", on=[\"Patient\", \"Weeks\"]\n",
        ")\n",
        "df = df.rename(columns={\"FVC\": \"FVC_true\"})"
      ],
      "metadata": {
        "id": "irS4rua7AtuC"
      },
      "execution_count": 21,
      "outputs": []
    },
    {
      "cell_type": "code",
      "source": [
        "# Run for predictions\n",
        "\n",
        "from pyro.primitives import random_module\n",
        "def chart(patient_id, ax):\n",
        "    data = df[df[\"Patient\"] == patient_id]\n",
        "    x = data[\"Weeks\"]\n",
        "    ax.set_title(patient_id)\n",
        "    ax.plot(x, data[\"FVC_true\"], \"o\")\n",
        "    ax.plot(x, data[\"FVC_pred\"])\n",
        "    # ax = sns.regplot(x, data[\"FVC_true\"], ax=ax, ci=None, line_kws={\"color\": \"red\"})\n",
        "    ax.fill_between(x, data[\"FVC_inf\"], data[\"FVC_sup\"], alpha=0.5, color=\"#ffcd3c\")\n",
        "    ax.set_ylabel(\"FVC\")\n",
        "\n",
        "random_patient = df['Patient'].sample(n=1).iloc[0]\n",
        "f, axes = plt.subplots(1, 1, figsize=(15, 5))\n",
        "chart(random_patient, axes)\n",
        "# chart(\"ID00007637202177411956430\", axes[0])\n",
        "# chart(\"ID00009637202177434476278\", axes[1])\n",
        "# chart(\"ID00011637202177653955184\", axes[2])"
      ],
      "metadata": {
        "colab": {
          "base_uri": "https://localhost:8080/",
          "height": 358
        },
        "id": "uFMxm_TQB6jb",
        "outputId": "67284ede-9efc-41b8-c3f1-9ea1c905f41b"
      },
      "execution_count": 24,
      "outputs": [
        {
          "output_type": "display_data",
          "data": {
            "image/png": "[encoded data removed]",
            "text/plain": [
              "<Figure size 1080x360 with 1 Axes>"
            ]
          },
          "metadata": {}
        }
      ]
    }
  ]
}